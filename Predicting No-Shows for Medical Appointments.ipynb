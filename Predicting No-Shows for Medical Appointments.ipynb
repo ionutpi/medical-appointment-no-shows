{
 "cells": [
  {
   "cell_type": "markdown",
   "metadata": {},
   "source": [
    "# Predicting No-Shows for Medical Appointments"
   ]
  },
  {
   "cell_type": "markdown",
   "metadata": {},
   "source": [
    "This notebook goes through some concepts and modeling steps for binary classification. The data is downloaded from kaggle, from Medical Appointment No Show case.\n",
    "\n",
    "https://www.kaggle.com/joniarroba/noshowappointments\n"
   ]
  },
  {
   "cell_type": "markdown",
   "metadata": {},
   "source": [
    "Contents:\n",
    " 1. Explain the goal\n",
    " 2. Introduce the data\n",
    " 3. Choose performance metric\n",
    " 4. Pre-process the data\n",
    " 5. Feature engineering\n",
    " 6. Algorithm evaluation (logistic, random forest, xgboost)\n",
    " 7. Conclusion and deploying model"
   ]
  },
  {
   "cell_type": "code",
   "execution_count": 1,
   "metadata": {
    "ExecuteTime": {
     "end_time": "2020-09-11T12:25:36.164872Z",
     "start_time": "2020-09-11T12:25:35.102908Z"
    }
   },
   "outputs": [],
   "source": [
    "import pandas as pd\n",
    "import numpy as np\n",
    "import matplotlib.pyplot as plt\n",
    "\n",
    "%load_ext autoreload\n",
    "%autoreload 2\n",
    "import data_utils as du"
   ]
  },
  {
   "cell_type": "code",
   "execution_count": 2,
   "metadata": {},
   "outputs": [],
   "source": [
    "import seaborn as sns\n",
    "sns.set(rc={'figure.figsize':(11.7,8.27)})"
   ]
  },
  {
   "cell_type": "markdown",
   "metadata": {},
   "source": [
    "# Goal - Predicting No-Shows for Medical Appointments\n",
    "\n",
    "\n",
    "The goal of this notebook is to see how well we can predict if a patient will show up for their upcoming medical appointment. For this we will be using a data set of 110.527 medical appointments with 14 associated variables."
   ]
  },
  {
   "cell_type": "markdown",
   "metadata": {},
   "source": [
    "# Data\n",
    "\n",
    "## Introduction"
   ]
  },
  {
   "cell_type": "markdown",
   "metadata": {},
   "source": [
    "We have the following information, on appointment level:\n",
    "1. PatientId: Identification of a patient\n",
    "2. AppointmentID: Identification of each appointment\n",
    "3. Gender: Male or Female\n",
    "4. AppointmentDay:  The day of the actual appointment, when they have to visit the doctor.\n",
    "5. ScheduledDay: The day someone called or registered the appointment.\n",
    "6. Age: How old is the patient.\n",
    "7. Neighbourhood: Where the appointment takes place.\n",
    "8. Scholarship: True of False. Brazilian social welfare program: https://en.wikipedia.org/wiki/Bolsa_Fam%C3%ADlia\n",
    "9. Hipertension: True or False\n",
    "10. Diabetes: True or False\n",
    "11. Alcoholism: True or False\n",
    "12. Handicap: True or False\n",
    "13. SMS_received: 1 or more messages sent to the patient.\n",
    "14. **No-show**: True or False. Out target variable, tells us if the patient showed-up or not to the appointment"
   ]
  },
  {
   "cell_type": "markdown",
   "metadata": {},
   "source": [
    "## Loading the Data"
   ]
  },
  {
   "cell_type": "code",
   "execution_count": 3,
   "metadata": {
    "ExecuteTime": {
     "end_time": "2020-09-11T12:25:36.454539Z",
     "start_time": "2020-09-11T12:25:36.166986Z"
    }
   },
   "outputs": [
    {
     "data": {
      "text/html": [
       "<div>\n",
       "<style scoped>\n",
       "    .dataframe tbody tr th:only-of-type {\n",
       "        vertical-align: middle;\n",
       "    }\n",
       "\n",
       "    .dataframe tbody tr th {\n",
       "        vertical-align: top;\n",
       "    }\n",
       "\n",
       "    .dataframe thead th {\n",
       "        text-align: right;\n",
       "    }\n",
       "</style>\n",
       "<table border=\"1\" class=\"dataframe\">\n",
       "  <thead>\n",
       "    <tr style=\"text-align: right;\">\n",
       "      <th></th>\n",
       "      <th>PatientId</th>\n",
       "      <th>AppointmentID</th>\n",
       "      <th>Gender</th>\n",
       "      <th>ScheduledDay</th>\n",
       "      <th>AppointmentDay</th>\n",
       "      <th>Age</th>\n",
       "      <th>Neighbourhood</th>\n",
       "      <th>Scholarship</th>\n",
       "      <th>Hipertension</th>\n",
       "      <th>Diabetes</th>\n",
       "      <th>Alcoholism</th>\n",
       "      <th>Handicap</th>\n",
       "      <th>SMS_received</th>\n",
       "      <th>No-show</th>\n",
       "    </tr>\n",
       "  </thead>\n",
       "  <tbody>\n",
       "    <tr>\n",
       "      <th>0</th>\n",
       "      <td>29872499824296</td>\n",
       "      <td>5642903</td>\n",
       "      <td>F</td>\n",
       "      <td>2016-04-29T18:38:08Z</td>\n",
       "      <td>2016-04-29T00:00:00Z</td>\n",
       "      <td>62</td>\n",
       "      <td>JARDIM DA PENHA</td>\n",
       "      <td>0</td>\n",
       "      <td>1</td>\n",
       "      <td>0</td>\n",
       "      <td>0</td>\n",
       "      <td>0</td>\n",
       "      <td>0</td>\n",
       "      <td>No</td>\n",
       "    </tr>\n",
       "    <tr>\n",
       "      <th>1</th>\n",
       "      <td>558997776694438</td>\n",
       "      <td>5642503</td>\n",
       "      <td>M</td>\n",
       "      <td>2016-04-29T16:08:27Z</td>\n",
       "      <td>2016-04-29T00:00:00Z</td>\n",
       "      <td>56</td>\n",
       "      <td>JARDIM DA PENHA</td>\n",
       "      <td>0</td>\n",
       "      <td>0</td>\n",
       "      <td>0</td>\n",
       "      <td>0</td>\n",
       "      <td>0</td>\n",
       "      <td>0</td>\n",
       "      <td>No</td>\n",
       "    </tr>\n",
       "    <tr>\n",
       "      <th>2</th>\n",
       "      <td>4262962299951</td>\n",
       "      <td>5642549</td>\n",
       "      <td>F</td>\n",
       "      <td>2016-04-29T16:19:04Z</td>\n",
       "      <td>2016-04-29T00:00:00Z</td>\n",
       "      <td>62</td>\n",
       "      <td>MATA DA PRAIA</td>\n",
       "      <td>0</td>\n",
       "      <td>0</td>\n",
       "      <td>0</td>\n",
       "      <td>0</td>\n",
       "      <td>0</td>\n",
       "      <td>0</td>\n",
       "      <td>No</td>\n",
       "    </tr>\n",
       "    <tr>\n",
       "      <th>3</th>\n",
       "      <td>867951213174</td>\n",
       "      <td>5642828</td>\n",
       "      <td>F</td>\n",
       "      <td>2016-04-29T17:29:31Z</td>\n",
       "      <td>2016-04-29T00:00:00Z</td>\n",
       "      <td>8</td>\n",
       "      <td>PONTAL DE CAMBURI</td>\n",
       "      <td>0</td>\n",
       "      <td>0</td>\n",
       "      <td>0</td>\n",
       "      <td>0</td>\n",
       "      <td>0</td>\n",
       "      <td>0</td>\n",
       "      <td>No</td>\n",
       "    </tr>\n",
       "    <tr>\n",
       "      <th>4</th>\n",
       "      <td>8841186448183</td>\n",
       "      <td>5642494</td>\n",
       "      <td>F</td>\n",
       "      <td>2016-04-29T16:07:23Z</td>\n",
       "      <td>2016-04-29T00:00:00Z</td>\n",
       "      <td>56</td>\n",
       "      <td>JARDIM DA PENHA</td>\n",
       "      <td>0</td>\n",
       "      <td>1</td>\n",
       "      <td>1</td>\n",
       "      <td>0</td>\n",
       "      <td>0</td>\n",
       "      <td>0</td>\n",
       "      <td>No</td>\n",
       "    </tr>\n",
       "  </tbody>\n",
       "</table>\n",
       "</div>"
      ],
      "text/plain": [
       "         PatientId  AppointmentID Gender          ScheduledDay  \\\n",
       "0   29872499824296        5642903      F  2016-04-29T18:38:08Z   \n",
       "1  558997776694438        5642503      M  2016-04-29T16:08:27Z   \n",
       "2    4262962299951        5642549      F  2016-04-29T16:19:04Z   \n",
       "3     867951213174        5642828      F  2016-04-29T17:29:31Z   \n",
       "4    8841186448183        5642494      F  2016-04-29T16:07:23Z   \n",
       "\n",
       "         AppointmentDay  Age      Neighbourhood  Scholarship  Hipertension  \\\n",
       "0  2016-04-29T00:00:00Z   62    JARDIM DA PENHA            0             1   \n",
       "1  2016-04-29T00:00:00Z   56    JARDIM DA PENHA            0             0   \n",
       "2  2016-04-29T00:00:00Z   62      MATA DA PRAIA            0             0   \n",
       "3  2016-04-29T00:00:00Z    8  PONTAL DE CAMBURI            0             0   \n",
       "4  2016-04-29T00:00:00Z   56    JARDIM DA PENHA            0             1   \n",
       "\n",
       "   Diabetes  Alcoholism  Handicap  SMS_received No-show  \n",
       "0         0           0         0             0      No  \n",
       "1         0           0         0             0      No  \n",
       "2         0           0         0             0      No  \n",
       "3         0           0         0             0      No  \n",
       "4         1           0         0             0      No  "
      ]
     },
     "execution_count": 3,
     "metadata": {},
     "output_type": "execute_result"
    }
   ],
   "source": [
    "df = pd.read_csv('./data/no-shows-data.csv', dtype={'PatientId':str})\n",
    "df.head()"
   ]
  },
  {
   "cell_type": "markdown",
   "metadata": {},
   "source": [
    "## Explore dataset"
   ]
  },
  {
   "cell_type": "code",
   "execution_count": 4,
   "metadata": {},
   "outputs": [
    {
     "data": {
      "text/html": [
       "<div>\n",
       "<style scoped>\n",
       "    .dataframe tbody tr th:only-of-type {\n",
       "        vertical-align: middle;\n",
       "    }\n",
       "\n",
       "    .dataframe tbody tr th {\n",
       "        vertical-align: top;\n",
       "    }\n",
       "\n",
       "    .dataframe thead th {\n",
       "        text-align: right;\n",
       "    }\n",
       "</style>\n",
       "<table border=\"1\" class=\"dataframe\">\n",
       "  <thead>\n",
       "    <tr style=\"text-align: right;\">\n",
       "      <th></th>\n",
       "      <th>AppointmentID</th>\n",
       "      <th>Age</th>\n",
       "      <th>Scholarship</th>\n",
       "      <th>Hipertension</th>\n",
       "      <th>Diabetes</th>\n",
       "      <th>Alcoholism</th>\n",
       "      <th>Handicap</th>\n",
       "      <th>SMS_received</th>\n",
       "    </tr>\n",
       "  </thead>\n",
       "  <tbody>\n",
       "    <tr>\n",
       "      <th>count</th>\n",
       "      <td>1.105270e+05</td>\n",
       "      <td>110527.000000</td>\n",
       "      <td>110527.000000</td>\n",
       "      <td>110527.000000</td>\n",
       "      <td>110527.000000</td>\n",
       "      <td>110527.000000</td>\n",
       "      <td>110527.000000</td>\n",
       "      <td>110527.000000</td>\n",
       "    </tr>\n",
       "    <tr>\n",
       "      <th>mean</th>\n",
       "      <td>5.675305e+06</td>\n",
       "      <td>37.088874</td>\n",
       "      <td>0.098266</td>\n",
       "      <td>0.197246</td>\n",
       "      <td>0.071865</td>\n",
       "      <td>0.030400</td>\n",
       "      <td>0.022248</td>\n",
       "      <td>0.321026</td>\n",
       "    </tr>\n",
       "    <tr>\n",
       "      <th>std</th>\n",
       "      <td>7.129575e+04</td>\n",
       "      <td>23.110205</td>\n",
       "      <td>0.297675</td>\n",
       "      <td>0.397921</td>\n",
       "      <td>0.258265</td>\n",
       "      <td>0.171686</td>\n",
       "      <td>0.161543</td>\n",
       "      <td>0.466873</td>\n",
       "    </tr>\n",
       "    <tr>\n",
       "      <th>min</th>\n",
       "      <td>5.030230e+06</td>\n",
       "      <td>-1.000000</td>\n",
       "      <td>0.000000</td>\n",
       "      <td>0.000000</td>\n",
       "      <td>0.000000</td>\n",
       "      <td>0.000000</td>\n",
       "      <td>0.000000</td>\n",
       "      <td>0.000000</td>\n",
       "    </tr>\n",
       "    <tr>\n",
       "      <th>25%</th>\n",
       "      <td>5.640286e+06</td>\n",
       "      <td>18.000000</td>\n",
       "      <td>0.000000</td>\n",
       "      <td>0.000000</td>\n",
       "      <td>0.000000</td>\n",
       "      <td>0.000000</td>\n",
       "      <td>0.000000</td>\n",
       "      <td>0.000000</td>\n",
       "    </tr>\n",
       "    <tr>\n",
       "      <th>50%</th>\n",
       "      <td>5.680573e+06</td>\n",
       "      <td>37.000000</td>\n",
       "      <td>0.000000</td>\n",
       "      <td>0.000000</td>\n",
       "      <td>0.000000</td>\n",
       "      <td>0.000000</td>\n",
       "      <td>0.000000</td>\n",
       "      <td>0.000000</td>\n",
       "    </tr>\n",
       "    <tr>\n",
       "      <th>75%</th>\n",
       "      <td>5.725524e+06</td>\n",
       "      <td>55.000000</td>\n",
       "      <td>0.000000</td>\n",
       "      <td>0.000000</td>\n",
       "      <td>0.000000</td>\n",
       "      <td>0.000000</td>\n",
       "      <td>0.000000</td>\n",
       "      <td>1.000000</td>\n",
       "    </tr>\n",
       "    <tr>\n",
       "      <th>max</th>\n",
       "      <td>5.790484e+06</td>\n",
       "      <td>115.000000</td>\n",
       "      <td>1.000000</td>\n",
       "      <td>1.000000</td>\n",
       "      <td>1.000000</td>\n",
       "      <td>1.000000</td>\n",
       "      <td>4.000000</td>\n",
       "      <td>1.000000</td>\n",
       "    </tr>\n",
       "  </tbody>\n",
       "</table>\n",
       "</div>"
      ],
      "text/plain": [
       "       AppointmentID            Age    Scholarship   Hipertension  \\\n",
       "count   1.105270e+05  110527.000000  110527.000000  110527.000000   \n",
       "mean    5.675305e+06      37.088874       0.098266       0.197246   \n",
       "std     7.129575e+04      23.110205       0.297675       0.397921   \n",
       "min     5.030230e+06      -1.000000       0.000000       0.000000   \n",
       "25%     5.640286e+06      18.000000       0.000000       0.000000   \n",
       "50%     5.680573e+06      37.000000       0.000000       0.000000   \n",
       "75%     5.725524e+06      55.000000       0.000000       0.000000   \n",
       "max     5.790484e+06     115.000000       1.000000       1.000000   \n",
       "\n",
       "            Diabetes     Alcoholism       Handicap   SMS_received  \n",
       "count  110527.000000  110527.000000  110527.000000  110527.000000  \n",
       "mean        0.071865       0.030400       0.022248       0.321026  \n",
       "std         0.258265       0.171686       0.161543       0.466873  \n",
       "min         0.000000       0.000000       0.000000       0.000000  \n",
       "25%         0.000000       0.000000       0.000000       0.000000  \n",
       "50%         0.000000       0.000000       0.000000       0.000000  \n",
       "75%         0.000000       0.000000       0.000000       1.000000  \n",
       "max         1.000000       1.000000       4.000000       1.000000  "
      ]
     },
     "execution_count": 4,
     "metadata": {},
     "output_type": "execute_result"
    }
   ],
   "source": [
    "df.describe()"
   ]
  },
  {
   "cell_type": "markdown",
   "metadata": {},
   "source": [
    "## Target variable and class imbalance discussion"
   ]
  },
  {
   "cell_type": "markdown",
   "metadata": {},
   "source": [
    "Now let's analyze the target variable distribution"
   ]
  },
  {
   "cell_type": "code",
   "execution_count": 5,
   "metadata": {},
   "outputs": [
    {
     "data": {
      "image/png": "[encoded data removed]",
      "text/plain": [
       "<Figure size 842.4x595.44 with 1 Axes>"
      ]
     },
     "metadata": {},
     "output_type": "display_data"
    }
   ],
   "source": [
    "sns.histplot(df['No-show'], color='green');"
   ]
  },
  {
   "cell_type": "markdown",
   "metadata": {},
   "source": [
    "We can see that there are about 4 times more \"No\"-s than \"Yes\"-es. We can deal with this imbalance in a few ways:\n",
    "1. Choose the performance metric for the models in a careful way\n",
    "2. Add a larger penalty for the minority class in the loss function\n",
    "3. Random oversample - sample minority class observations from the data set until we have about same number of points for each class\n",
    "4. Synthetic oversample (SMOTE) - oversample minority class observations and generate features using k-nn"
   ]
  },
  {
   "cell_type": "markdown",
   "metadata": {},
   "source": [
    "# Performance metric"
   ]
  },
  {
   "cell_type": "markdown",
   "metadata": {},
   "source": [
    "Related to point 1., if we only look at accuracy we can be misled. Accuracy is defined as:"
   ]
  },
  {
   "cell_type": "markdown",
   "metadata": {},
   "source": [
    "\\begin{equation*}\n",
    "Accuracy = \\frac{TP + TN}{P+N}\n",
    "\\end{equation*}"
   ]
  },
  {
   "cell_type": "markdown",
   "metadata": {},
   "source": [
    "So let's assume if there is only 1 positive example and 100 observations. If our model predicts only negatives (100 negatives) then the $TP$ will be 0, the $TN$ will be 99. So the accuracy will be 99%., which is misleading."
   ]
  },
  {
   "cell_type": "markdown",
   "metadata": {},
   "source": [
    "In such cases we could use other performance metrics. One is precision, which is defined as the proportion of correctly predicted positives out of all positive predictions:"
   ]
  },
  {
   "cell_type": "markdown",
   "metadata": {},
   "source": [
    "\\begin{equation*}\n",
    "Precision = \\frac{TP}{TP+FP}\n",
    "\\end{equation*}"
   ]
  },
  {
   "cell_type": "markdown",
   "metadata": {},
   "source": [
    "Another measure is the recall, which is the ratio of correctly predicted positives, out of all positives:"
   ]
  },
  {
   "cell_type": "markdown",
   "metadata": {},
   "source": [
    "\\begin{equation*}\n",
    "Recall = \\frac{TP}{P} = \\frac{TP}{TP+FN}\n",
    "\\end{equation*}"
   ]
  },
  {
   "cell_type": "markdown",
   "metadata": {},
   "source": [
    "In the numerical example above, because $TP$ is zero, both precision and recall will be zero."
   ]
  },
  {
   "cell_type": "markdown",
   "metadata": {},
   "source": [
    "If we want only one metric we can use the F1 score which is the harmonic mean of precision and recall:"
   ]
  },
  {
   "cell_type": "markdown",
   "metadata": {},
   "source": [
    "\\begin{equation*}\n",
    "F_1 = 2\\frac{Precision \\cdot Recall}{Precision + Recall}\n",
    "\\end{equation*}"
   ]
  },
  {
   "cell_type": "markdown",
   "metadata": {},
   "source": [
    "# Pre-processing the data"
   ]
  },
  {
   "cell_type": "markdown",
   "metadata": {},
   "source": [
    "The plan is to:\n",
    "* Convert target to binary variable\n",
    "* Convert gender to binary variable\n",
    "* Convert dates to timestamp"
   ]
  },
  {
   "cell_type": "code",
   "execution_count": 6,
   "metadata": {
    "ExecuteTime": {
     "end_time": "2020-09-11T12:25:36.484812Z",
     "start_time": "2020-09-11T12:25:36.459008Z"
    }
   },
   "outputs": [],
   "source": [
    "df_pre = du.pre_process(df)"
   ]
  },
  {
   "cell_type": "code",
   "execution_count": 7,
   "metadata": {},
   "outputs": [
    {
     "data": {
      "text/html": [
       "<div>\n",
       "<style scoped>\n",
       "    .dataframe tbody tr th:only-of-type {\n",
       "        vertical-align: middle;\n",
       "    }\n",
       "\n",
       "    .dataframe tbody tr th {\n",
       "        vertical-align: top;\n",
       "    }\n",
       "\n",
       "    .dataframe thead th {\n",
       "        text-align: right;\n",
       "    }\n",
       "</style>\n",
       "<table border=\"1\" class=\"dataframe\">\n",
       "  <thead>\n",
       "    <tr style=\"text-align: right;\">\n",
       "      <th></th>\n",
       "      <th>PatientId</th>\n",
       "      <th>AppointmentID</th>\n",
       "      <th>Gender</th>\n",
       "      <th>ScheduledDay</th>\n",
       "      <th>AppointmentDay</th>\n",
       "      <th>Age</th>\n",
       "      <th>Neighbourhood</th>\n",
       "      <th>Scholarship</th>\n",
       "      <th>Hipertension</th>\n",
       "      <th>Diabetes</th>\n",
       "      <th>Alcoholism</th>\n",
       "      <th>Handicap</th>\n",
       "      <th>SMS_received</th>\n",
       "      <th>No-show</th>\n",
       "    </tr>\n",
       "  </thead>\n",
       "  <tbody>\n",
       "    <tr>\n",
       "      <th>0</th>\n",
       "      <td>29872499824296</td>\n",
       "      <td>5642903</td>\n",
       "      <td>1</td>\n",
       "      <td>2016-04-29 18:38:08+00:00</td>\n",
       "      <td>2016-04-29 00:00:00+00:00</td>\n",
       "      <td>62</td>\n",
       "      <td>JARDIM DA PENHA</td>\n",
       "      <td>0</td>\n",
       "      <td>1</td>\n",
       "      <td>0</td>\n",
       "      <td>0</td>\n",
       "      <td>0</td>\n",
       "      <td>0</td>\n",
       "      <td>0</td>\n",
       "    </tr>\n",
       "    <tr>\n",
       "      <th>1</th>\n",
       "      <td>558997776694438</td>\n",
       "      <td>5642503</td>\n",
       "      <td>0</td>\n",
       "      <td>2016-04-29 16:08:27+00:00</td>\n",
       "      <td>2016-04-29 00:00:00+00:00</td>\n",
       "      <td>56</td>\n",
       "      <td>JARDIM DA PENHA</td>\n",
       "      <td>0</td>\n",
       "      <td>0</td>\n",
       "      <td>0</td>\n",
       "      <td>0</td>\n",
       "      <td>0</td>\n",
       "      <td>0</td>\n",
       "      <td>0</td>\n",
       "    </tr>\n",
       "    <tr>\n",
       "      <th>2</th>\n",
       "      <td>4262962299951</td>\n",
       "      <td>5642549</td>\n",
       "      <td>1</td>\n",
       "      <td>2016-04-29 16:19:04+00:00</td>\n",
       "      <td>2016-04-29 00:00:00+00:00</td>\n",
       "      <td>62</td>\n",
       "      <td>MATA DA PRAIA</td>\n",
       "      <td>0</td>\n",
       "      <td>0</td>\n",
       "      <td>0</td>\n",
       "      <td>0</td>\n",
       "      <td>0</td>\n",
       "      <td>0</td>\n",
       "      <td>0</td>\n",
       "    </tr>\n",
       "    <tr>\n",
       "      <th>3</th>\n",
       "      <td>867951213174</td>\n",
       "      <td>5642828</td>\n",
       "      <td>1</td>\n",
       "      <td>2016-04-29 17:29:31+00:00</td>\n",
       "      <td>2016-04-29 00:00:00+00:00</td>\n",
       "      <td>8</td>\n",
       "      <td>PONTAL DE CAMBURI</td>\n",
       "      <td>0</td>\n",
       "      <td>0</td>\n",
       "      <td>0</td>\n",
       "      <td>0</td>\n",
       "      <td>0</td>\n",
       "      <td>0</td>\n",
       "      <td>0</td>\n",
       "    </tr>\n",
       "    <tr>\n",
       "      <th>4</th>\n",
       "      <td>8841186448183</td>\n",
       "      <td>5642494</td>\n",
       "      <td>1</td>\n",
       "      <td>2016-04-29 16:07:23+00:00</td>\n",
       "      <td>2016-04-29 00:00:00+00:00</td>\n",
       "      <td>56</td>\n",
       "      <td>JARDIM DA PENHA</td>\n",
       "      <td>0</td>\n",
       "      <td>1</td>\n",
       "      <td>1</td>\n",
       "      <td>0</td>\n",
       "      <td>0</td>\n",
       "      <td>0</td>\n",
       "      <td>0</td>\n",
       "    </tr>\n",
       "  </tbody>\n",
       "</table>\n",
       "</div>"
      ],
      "text/plain": [
       "         PatientId  AppointmentID  Gender              ScheduledDay  \\\n",
       "0   29872499824296        5642903       1 2016-04-29 18:38:08+00:00   \n",
       "1  558997776694438        5642503       0 2016-04-29 16:08:27+00:00   \n",
       "2    4262962299951        5642549       1 2016-04-29 16:19:04+00:00   \n",
       "3     867951213174        5642828       1 2016-04-29 17:29:31+00:00   \n",
       "4    8841186448183        5642494       1 2016-04-29 16:07:23+00:00   \n",
       "\n",
       "             AppointmentDay  Age      Neighbourhood  Scholarship  \\\n",
       "0 2016-04-29 00:00:00+00:00   62    JARDIM DA PENHA            0   \n",
       "1 2016-04-29 00:00:00+00:00   56    JARDIM DA PENHA            0   \n",
       "2 2016-04-29 00:00:00+00:00   62      MATA DA PRAIA            0   \n",
       "3 2016-04-29 00:00:00+00:00    8  PONTAL DE CAMBURI            0   \n",
       "4 2016-04-29 00:00:00+00:00   56    JARDIM DA PENHA            0   \n",
       "\n",
       "   Hipertension  Diabetes  Alcoholism  Handicap  SMS_received  No-show  \n",
       "0             1         0           0         0             0        0  \n",
       "1             0         0           0         0             0        0  \n",
       "2             0         0           0         0             0        0  \n",
       "3             0         0           0         0             0        0  \n",
       "4             1         1           0         0             0        0  "
      ]
     },
     "execution_count": 7,
     "metadata": {},
     "output_type": "execute_result"
    }
   ],
   "source": [
    "df_pre.head()"
   ]
  },
  {
   "cell_type": "markdown",
   "metadata": {},
   "source": [
    "# Feature Engineering"
   ]
  },
  {
   "cell_type": "markdown",
   "metadata": {},
   "source": [
    "Can one patient have multiple appointments?"
   ]
  },
  {
   "cell_type": "code",
   "execution_count": 8,
   "metadata": {},
   "outputs": [],
   "source": [
    "app_per_pat = df.groupby('PatientId').count()['AppointmentID'].reset_index()\n",
    "app_per_pat.columns = ['PatientId', 'Appointment_count']"
   ]
  },
  {
   "cell_type": "markdown",
   "metadata": {},
   "source": [
    "Let's see the distribution of patients by the number of appointments"
   ]
  },
  {
   "cell_type": "code",
   "execution_count": 9,
   "metadata": {},
   "outputs": [
    {
     "data": {
      "image/png": "[encoded data removed]",
      "text/plain": [
       "<Figure size 842.4x595.44 with 1 Axes>"
      ]
     },
     "metadata": {},
     "output_type": "display_data"
    }
   ],
   "source": [
    "sns.histplot(np.where(app_per_pat['Appointment_count'].sort_values()>=6,\n",
    "                                 '6 or more',\n",
    "                                 app_per_pat['Appointment_count'].sort_values().astype(str)));"
   ]
  },
  {
   "cell_type": "markdown",
   "metadata": {},
   "source": [
    "Almost half of the patients have more than one appointment. We should consider to somehow include the history of previous visits as an explanatory variable."
   ]
  },
  {
   "cell_type": "markdown",
   "metadata": {},
   "source": [
    "After some testing I added the following features:\n",
    "* Number of days between scheduled day and appointment day **DaysToApp**\n",
    "* If scheduled appointment is in weekend or not **AppWeekend**\n",
    "* Number of previous appointments at time of appointment **PrevAppoint**\n",
    "* Ratio of previously missed appointments at time of appointment **NoShowRatio**"
   ]
  },
  {
   "cell_type": "markdown",
   "metadata": {},
   "source": [
    "The last two features might be noisy for appointments on the same day because we miss the hour and minute information."
   ]
  },
  {
   "cell_type": "code",
   "execution_count": 10,
   "metadata": {
    "ExecuteTime": {
     "end_time": "2020-09-11T12:25:36.516431Z",
     "start_time": "2020-09-11T12:25:36.487619Z"
    }
   },
   "outputs": [],
   "source": [
    "features = du.feature_engineering(df_pre)"
   ]
  },
  {
   "cell_type": "code",
   "execution_count": 11,
   "metadata": {},
   "outputs": [
    {
     "data": {
      "text/html": [
       "<div>\n",
       "<style scoped>\n",
       "    .dataframe tbody tr th:only-of-type {\n",
       "        vertical-align: middle;\n",
       "    }\n",
       "\n",
       "    .dataframe tbody tr th {\n",
       "        vertical-align: top;\n",
       "    }\n",
       "\n",
       "    .dataframe thead th {\n",
       "        text-align: right;\n",
       "    }\n",
       "</style>\n",
       "<table border=\"1\" class=\"dataframe\">\n",
       "  <thead>\n",
       "    <tr style=\"text-align: right;\">\n",
       "      <th></th>\n",
       "      <th>PatientId</th>\n",
       "      <th>AppointmentID</th>\n",
       "      <th>Gender</th>\n",
       "      <th>ScheduledDay</th>\n",
       "      <th>AppointmentDay</th>\n",
       "      <th>Age</th>\n",
       "      <th>Neighbourhood</th>\n",
       "      <th>Scholarship</th>\n",
       "      <th>Hipertension</th>\n",
       "      <th>Diabetes</th>\n",
       "      <th>Alcoholism</th>\n",
       "      <th>Handicap</th>\n",
       "      <th>SMS_received</th>\n",
       "      <th>No-show</th>\n",
       "      <th>DaysToApp</th>\n",
       "      <th>AppWeekend</th>\n",
       "      <th>PrevAppoint</th>\n",
       "      <th>PrevNoShowAppoint</th>\n",
       "      <th>NoShowRatio</th>\n",
       "    </tr>\n",
       "  </thead>\n",
       "  <tbody>\n",
       "    <tr>\n",
       "      <th>0</th>\n",
       "      <td>29872499824296</td>\n",
       "      <td>5642903</td>\n",
       "      <td>1</td>\n",
       "      <td>2016-04-29 18:38:08+00:00</td>\n",
       "      <td>2016-04-29 00:00:00+00:00</td>\n",
       "      <td>62</td>\n",
       "      <td>JARDIM DA PENHA</td>\n",
       "      <td>0</td>\n",
       "      <td>1</td>\n",
       "      <td>0</td>\n",
       "      <td>0</td>\n",
       "      <td>0</td>\n",
       "      <td>0</td>\n",
       "      <td>0</td>\n",
       "      <td>0</td>\n",
       "      <td>0</td>\n",
       "      <td>0</td>\n",
       "      <td>0.0</td>\n",
       "      <td>0.0</td>\n",
       "    </tr>\n",
       "    <tr>\n",
       "      <th>1</th>\n",
       "      <td>558997776694438</td>\n",
       "      <td>5642503</td>\n",
       "      <td>0</td>\n",
       "      <td>2016-04-29 16:08:27+00:00</td>\n",
       "      <td>2016-04-29 00:00:00+00:00</td>\n",
       "      <td>56</td>\n",
       "      <td>JARDIM DA PENHA</td>\n",
       "      <td>0</td>\n",
       "      <td>0</td>\n",
       "      <td>0</td>\n",
       "      <td>0</td>\n",
       "      <td>0</td>\n",
       "      <td>0</td>\n",
       "      <td>0</td>\n",
       "      <td>0</td>\n",
       "      <td>0</td>\n",
       "      <td>1</td>\n",
       "      <td>0.0</td>\n",
       "      <td>0.0</td>\n",
       "    </tr>\n",
       "    <tr>\n",
       "      <th>2</th>\n",
       "      <td>4262962299951</td>\n",
       "      <td>5642549</td>\n",
       "      <td>1</td>\n",
       "      <td>2016-04-29 16:19:04+00:00</td>\n",
       "      <td>2016-04-29 00:00:00+00:00</td>\n",
       "      <td>62</td>\n",
       "      <td>MATA DA PRAIA</td>\n",
       "      <td>0</td>\n",
       "      <td>0</td>\n",
       "      <td>0</td>\n",
       "      <td>0</td>\n",
       "      <td>0</td>\n",
       "      <td>0</td>\n",
       "      <td>0</td>\n",
       "      <td>0</td>\n",
       "      <td>0</td>\n",
       "      <td>0</td>\n",
       "      <td>0.0</td>\n",
       "      <td>0.0</td>\n",
       "    </tr>\n",
       "    <tr>\n",
       "      <th>3</th>\n",
       "      <td>867951213174</td>\n",
       "      <td>5642828</td>\n",
       "      <td>1</td>\n",
       "      <td>2016-04-29 17:29:31+00:00</td>\n",
       "      <td>2016-04-29 00:00:00+00:00</td>\n",
       "      <td>8</td>\n",
       "      <td>PONTAL DE CAMBURI</td>\n",
       "      <td>0</td>\n",
       "      <td>0</td>\n",
       "      <td>0</td>\n",
       "      <td>0</td>\n",
       "      <td>0</td>\n",
       "      <td>0</td>\n",
       "      <td>0</td>\n",
       "      <td>0</td>\n",
       "      <td>0</td>\n",
       "      <td>0</td>\n",
       "      <td>0.0</td>\n",
       "      <td>0.0</td>\n",
       "    </tr>\n",
       "    <tr>\n",
       "      <th>4</th>\n",
       "      <td>8841186448183</td>\n",
       "      <td>5642494</td>\n",
       "      <td>1</td>\n",
       "      <td>2016-04-29 16:07:23+00:00</td>\n",
       "      <td>2016-04-29 00:00:00+00:00</td>\n",
       "      <td>56</td>\n",
       "      <td>JARDIM DA PENHA</td>\n",
       "      <td>0</td>\n",
       "      <td>1</td>\n",
       "      <td>1</td>\n",
       "      <td>0</td>\n",
       "      <td>0</td>\n",
       "      <td>0</td>\n",
       "      <td>0</td>\n",
       "      <td>0</td>\n",
       "      <td>0</td>\n",
       "      <td>0</td>\n",
       "      <td>0.0</td>\n",
       "      <td>0.0</td>\n",
       "    </tr>\n",
       "  </tbody>\n",
       "</table>\n",
       "</div>"
      ],
      "text/plain": [
       "         PatientId  AppointmentID  Gender              ScheduledDay  \\\n",
       "0   29872499824296        5642903       1 2016-04-29 18:38:08+00:00   \n",
       "1  558997776694438        5642503       0 2016-04-29 16:08:27+00:00   \n",
       "2    4262962299951        5642549       1 2016-04-29 16:19:04+00:00   \n",
       "3     867951213174        5642828       1 2016-04-29 17:29:31+00:00   \n",
       "4    8841186448183        5642494       1 2016-04-29 16:07:23+00:00   \n",
       "\n",
       "             AppointmentDay  Age      Neighbourhood  Scholarship  \\\n",
       "0 2016-04-29 00:00:00+00:00   62    JARDIM DA PENHA            0   \n",
       "1 2016-04-29 00:00:00+00:00   56    JARDIM DA PENHA            0   \n",
       "2 2016-04-29 00:00:00+00:00   62      MATA DA PRAIA            0   \n",
       "3 2016-04-29 00:00:00+00:00    8  PONTAL DE CAMBURI            0   \n",
       "4 2016-04-29 00:00:00+00:00   56    JARDIM DA PENHA            0   \n",
       "\n",
       "   Hipertension  Diabetes  Alcoholism  Handicap  SMS_received  No-show  \\\n",
       "0             1         0           0         0             0        0   \n",
       "1             0         0           0         0             0        0   \n",
       "2             0         0           0         0             0        0   \n",
       "3             0         0           0         0             0        0   \n",
       "4             1         1           0         0             0        0   \n",
       "\n",
       "   DaysToApp  AppWeekend  PrevAppoint  PrevNoShowAppoint  NoShowRatio  \n",
       "0          0           0            0                0.0          0.0  \n",
       "1          0           0            1                0.0          0.0  \n",
       "2          0           0            0                0.0          0.0  \n",
       "3          0           0            0                0.0          0.0  \n",
       "4          0           0            0                0.0          0.0  "
      ]
     },
     "execution_count": 11,
     "metadata": {},
     "output_type": "execute_result"
    }
   ],
   "source": [
    "features.head()"
   ]
  },
  {
   "cell_type": "markdown",
   "metadata": {},
   "source": [
    "## Splitting the Data\n",
    "We need to split the data into test and train sets. If you are going for extensive optimisation, you will need a more elaborate evaluation strategy."
   ]
  },
  {
   "cell_type": "code",
   "execution_count": 12,
   "metadata": {},
   "outputs": [
    {
     "data": {
      "text/plain": [
       "Index(['PatientId', 'AppointmentID', 'Gender', 'ScheduledDay',\n",
       "       'AppointmentDay', 'Age', 'Neighbourhood', 'Scholarship', 'Hipertension',\n",
       "       'Diabetes', 'Alcoholism', 'Handicap', 'SMS_received', 'No-show',\n",
       "       'DaysToApp', 'AppWeekend', 'PrevAppoint', 'PrevNoShowAppoint',\n",
       "       'NoShowRatio'],\n",
       "      dtype='object')"
      ]
     },
     "execution_count": 12,
     "metadata": {},
     "output_type": "execute_result"
    }
   ],
   "source": [
    "features.columns"
   ]
  },
  {
   "cell_type": "code",
   "execution_count": 13,
   "metadata": {},
   "outputs": [],
   "source": [
    "# explanatory variables\n",
    "x_cols = ['Gender', 'Age', 'Scholarship', 'Hipertension',\n",
    "       'Diabetes', 'Alcoholism', 'Handicap', 'SMS_received',\n",
    "       'DaysToApp', 'AppWeekend', 'PrevAppoint', 'NoShowRatio']"
   ]
  },
  {
   "cell_type": "code",
   "execution_count": 14,
   "metadata": {
    "ExecuteTime": {
     "end_time": "2020-09-11T12:25:36.543183Z",
     "start_time": "2020-09-11T12:25:36.518491Z"
    }
   },
   "outputs": [],
   "source": [
    "X_train, X_test, Y_train, Y_test = du.splitting_data(features, x_cols, test_size=0.2)"
   ]
  },
  {
   "cell_type": "code",
   "execution_count": 15,
   "metadata": {},
   "outputs": [
    {
     "name": "stdout",
     "output_type": "stream",
     "text": [
      "Train size 88421 \n",
      "Test size 22106 \n"
     ]
    }
   ],
   "source": [
    "print (\"Train size %d \\nTest size %d \"% (X_train.shape[0], X_test.shape[0]))"
   ]
  },
  {
   "cell_type": "markdown",
   "metadata": {},
   "source": [
    "# Model Evaluation"
   ]
  },
  {
   "cell_type": "markdown",
   "metadata": {},
   "source": [
    "We will compare 3 models:\n",
    "* Logistic regression\n",
    "* Random forest classifier\n",
    "* XGBoost classifier\n",
    "\n",
    "First i will detail the logistic regression model"
   ]
  },
  {
   "cell_type": "code",
   "execution_count": 16,
   "metadata": {},
   "outputs": [],
   "source": [
    "df_mod_train = pd.DataFrame(Y_train.copy().rename(\"NoShow\"))"
   ]
  },
  {
   "cell_type": "code",
   "execution_count": 17,
   "metadata": {},
   "outputs": [],
   "source": [
    "df_mod_train = pd.concat([df_mod_train, X_train], axis=1)"
   ]
  },
  {
   "cell_type": "markdown",
   "metadata": {},
   "source": [
    "## Baseline model - logistic regression"
   ]
  },
  {
   "cell_type": "markdown",
   "metadata": {},
   "source": [
    "Let's assume a linear relationship between our explanatory variables and a quantity $z$:"
   ]
  },
  {
   "cell_type": "markdown",
   "metadata": {},
   "source": [
    "\\begin{equation*}\n",
    "z = \\beta_0 + \\beta_1*Gender + \\beta_2*Age + \\cdots + \\beta_{11}*PrevAppoint + \\beta_{12}*NoShowRatio\n",
    "\\end{equation*}"
   ]
  },
  {
   "cell_type": "markdown",
   "metadata": {},
   "source": [
    "To model the probability of no-show we plug in $z$ to a function called $sigmoid$ or $logistic$, that maps a real value to the interval (0, 1). Here $p$ is the probability that an observation belongs to the positive class:"
   ]
  },
  {
   "cell_type": "markdown",
   "metadata": {},
   "source": [
    "\\begin{equation*}\n",
    "P(y=1) = p = \\frac{1}{(1 + e^{-z})} = \\frac{e^{z}}{(1 + e^{z})}\n",
    "\\end{equation*}"
   ]
  },
  {
   "cell_type": "markdown",
   "metadata": {},
   "source": [
    "Shape of $sigmoid$ function"
   ]
  },
  {
   "cell_type": "markdown",
   "metadata": {},
   "source": [
    "<img src=\"logistic-curve.png\" style=\"width: 300px\">"
   ]
  },
  {
   "cell_type": "markdown",
   "metadata": {},
   "source": [
    "Conversely we can express $z$ in terms of $p$. The quantity $z$ is also called log-odds."
   ]
  },
  {
   "cell_type": "markdown",
   "metadata": {},
   "source": [
    "\\begin{equation*}\n",
    "z = \\log \\left( \\frac{p}{1-p} \\right) = - \\log \\left( \\frac{1}{p}-1 \\right)\n",
    "\\end{equation*}"
   ]
  },
  {
   "cell_type": "markdown",
   "metadata": {},
   "source": [
    "I will be using the statsmodel library in this case, to see the estimation summary"
   ]
  },
  {
   "cell_type": "code",
   "execution_count": 18,
   "metadata": {},
   "outputs": [],
   "source": [
    "import statsmodels.formula.api as smf"
   ]
  },
  {
   "cell_type": "code",
   "execution_count": 19,
   "metadata": {},
   "outputs": [
    {
     "name": "stdout",
     "output_type": "stream",
     "text": [
      "Optimization terminated successfully.\n",
      "         Current function value: 0.477799\n",
      "         Iterations 6\n"
     ]
    },
    {
     "data": {
      "text/html": [
       "<table class=\"simpletable\">\n",
       "<caption>Logit Regression Results</caption>\n",
       "<tr>\n",
       "  <th>Dep. Variable:</th>        <td>NoShow</td>      <th>  No. Observations:  </th>  <td> 88421</td> \n",
       "</tr>\n",
       "<tr>\n",
       "  <th>Model:</th>                 <td>Logit</td>      <th>  Df Residuals:      </th>  <td> 88408</td> \n",
       "</tr>\n",
       "<tr>\n",
       "  <th>Method:</th>                 <td>MLE</td>       <th>  Df Model:          </th>  <td>    12</td> \n",
       "</tr>\n",
       "<tr>\n",
       "  <th>Date:</th>            <td>Sat, 07 Nov 2020</td> <th>  Pseudo R-squ.:     </th>  <td>0.05023</td>\n",
       "</tr>\n",
       "<tr>\n",
       "  <th>Time:</th>                <td>15:25:25</td>     <th>  Log-Likelihood:    </th> <td> -42248.</td>\n",
       "</tr>\n",
       "<tr>\n",
       "  <th>converged:</th>             <td>True</td>       <th>  LL-Null:           </th> <td> -44482.</td>\n",
       "</tr>\n",
       "<tr>\n",
       "  <th>Covariance Type:</th>     <td>nonrobust</td>    <th>  LLR p-value:       </th>  <td> 0.000</td> \n",
       "</tr>\n",
       "</table>\n",
       "<table class=\"simpletable\">\n",
       "<tr>\n",
       "        <td></td>          <th>coef</th>     <th>std err</th>      <th>z</th>      <th>P>|z|</th>  <th>[0.025</th>    <th>0.975]</th>  \n",
       "</tr>\n",
       "<tr>\n",
       "  <th>Intercept</th>    <td>   -1.6058</td> <td>    0.021</td> <td>  -76.015</td> <td> 0.000</td> <td>   -1.647</td> <td>   -1.564</td>\n",
       "</tr>\n",
       "<tr>\n",
       "  <th>Gender</th>       <td>   -0.0036</td> <td>    0.019</td> <td>   -0.194</td> <td> 0.846</td> <td>   -0.040</td> <td>    0.033</td>\n",
       "</tr>\n",
       "<tr>\n",
       "  <th>Age</th>          <td>   -0.0075</td> <td>    0.000</td> <td>  -16.723</td> <td> 0.000</td> <td>   -0.008</td> <td>   -0.007</td>\n",
       "</tr>\n",
       "<tr>\n",
       "  <th>Scholarship</th>  <td>    0.2023</td> <td>    0.028</td> <td>    7.254</td> <td> 0.000</td> <td>    0.148</td> <td>    0.257</td>\n",
       "</tr>\n",
       "<tr>\n",
       "  <th>Hipertension</th> <td>   -0.0492</td> <td>    0.028</td> <td>   -1.746</td> <td> 0.081</td> <td>   -0.105</td> <td>    0.006</td>\n",
       "</tr>\n",
       "<tr>\n",
       "  <th>Diabetes</th>     <td>    0.1190</td> <td>    0.039</td> <td>    3.049</td> <td> 0.002</td> <td>    0.043</td> <td>    0.196</td>\n",
       "</tr>\n",
       "<tr>\n",
       "  <th>Alcoholism</th>   <td>    0.1948</td> <td>    0.052</td> <td>    3.758</td> <td> 0.000</td> <td>    0.093</td> <td>    0.296</td>\n",
       "</tr>\n",
       "<tr>\n",
       "  <th>Handicap</th>     <td>    0.0557</td> <td>    0.055</td> <td>    1.009</td> <td> 0.313</td> <td>   -0.052</td> <td>    0.164</td>\n",
       "</tr>\n",
       "<tr>\n",
       "  <th>SMS_received</th> <td>    0.3864</td> <td>    0.019</td> <td>   20.453</td> <td> 0.000</td> <td>    0.349</td> <td>    0.423</td>\n",
       "</tr>\n",
       "<tr>\n",
       "  <th>DaysToApp</th>    <td>    0.0222</td> <td>    0.001</td> <td>   40.304</td> <td> 0.000</td> <td>    0.021</td> <td>    0.023</td>\n",
       "</tr>\n",
       "<tr>\n",
       "  <th>AppWeekend</th>   <td>    0.2614</td> <td>    0.461</td> <td>    0.567</td> <td> 0.571</td> <td>   -0.643</td> <td>    1.166</td>\n",
       "</tr>\n",
       "<tr>\n",
       "  <th>PrevAppoint</th>  <td>   -0.0132</td> <td>    0.003</td> <td>   -4.464</td> <td> 0.000</td> <td>   -0.019</td> <td>   -0.007</td>\n",
       "</tr>\n",
       "<tr>\n",
       "  <th>NoShowRatio</th>  <td>    1.0088</td> <td>    0.030</td> <td>   33.416</td> <td> 0.000</td> <td>    0.950</td> <td>    1.068</td>\n",
       "</tr>\n",
       "</table>"
      ],
      "text/plain": [
       "<class 'statsmodels.iolib.summary.Summary'>\n",
       "\"\"\"\n",
       "                           Logit Regression Results                           \n",
       "==============================================================================\n",
       "Dep. Variable:                 NoShow   No. Observations:                88421\n",
       "Model:                          Logit   Df Residuals:                    88408\n",
       "Method:                           MLE   Df Model:                           12\n",
       "Date:                Sat, 07 Nov 2020   Pseudo R-squ.:                 0.05023\n",
       "Time:                        15:25:25   Log-Likelihood:                -42248.\n",
       "converged:                       True   LL-Null:                       -44482.\n",
       "Covariance Type:            nonrobust   LLR p-value:                     0.000\n",
       "================================================================================\n",
       "                   coef    std err          z      P>|z|      [0.025      0.975]\n",
       "--------------------------------------------------------------------------------\n",
       "Intercept       -1.6058      0.021    -76.015      0.000      -1.647      -1.564\n",
       "Gender          -0.0036      0.019     -0.194      0.846      -0.040       0.033\n",
       "Age             -0.0075      0.000    -16.723      0.000      -0.008      -0.007\n",
       "Scholarship      0.2023      0.028      7.254      0.000       0.148       0.257\n",
       "Hipertension    -0.0492      0.028     -1.746      0.081      -0.105       0.006\n",
       "Diabetes         0.1190      0.039      3.049      0.002       0.043       0.196\n",
       "Alcoholism       0.1948      0.052      3.758      0.000       0.093       0.296\n",
       "Handicap         0.0557      0.055      1.009      0.313      -0.052       0.164\n",
       "SMS_received     0.3864      0.019     20.453      0.000       0.349       0.423\n",
       "DaysToApp        0.0222      0.001     40.304      0.000       0.021       0.023\n",
       "AppWeekend       0.2614      0.461      0.567      0.571      -0.643       1.166\n",
       "PrevAppoint     -0.0132      0.003     -4.464      0.000      -0.019      -0.007\n",
       "NoShowRatio      1.0088      0.030     33.416      0.000       0.950       1.068\n",
       "================================================================================\n",
       "\"\"\""
      ]
     },
     "execution_count": 19,
     "metadata": {},
     "output_type": "execute_result"
    }
   ],
   "source": [
    "ols = smf.logit(\"\"\"NoShow ~ Gender + Age + Scholarship + Hipertension +\n",
    "       Diabetes + Alcoholism + Handicap + SMS_received +\n",
    "       DaysToApp + AppWeekend + PrevAppoint + NoShowRatio\"\"\",\n",
    "                     data=df_mod_train)\n",
    "olsf = ols.fit()\n",
    "# Print out the statistics\n",
    "olsf.summary()"
   ]
  },
  {
   "cell_type": "markdown",
   "metadata": {},
   "source": [
    "How do these coefficients affect the probability of no-show?"
   ]
  },
  {
   "cell_type": "markdown",
   "metadata": {},
   "source": [
    "The intercept is the log-odds of an appointment being a no-show when all other factors are zero."
   ]
  },
  {
   "cell_type": "markdown",
   "metadata": {},
   "source": [
    "In the example above we see that age has a coefficient of -0.0075. What does that mean?\n",
    "Let's see what happens with the probability of no-show if the age of the patient increases by 1 year."
   ]
  },
  {
   "cell_type": "markdown",
   "metadata": {},
   "source": [
    "\\begin{equation*}\n",
    "z_i = \\beta_0 + \\beta_1*Gender_i + \\beta_2*Age_i + ... \n",
    "\\end{equation*}"
   ]
  },
  {
   "cell_type": "markdown",
   "metadata": {},
   "source": [
    "\\begin{equation*}\n",
    "z_i' = \\beta_0 + \\beta_1*Gender_i + \\beta_2*(Age_i+1) + ... \n",
    "\\end{equation*}"
   ]
  },
  {
   "cell_type": "markdown",
   "metadata": {},
   "source": [
    "So the log-odds difference is equal to the coefficient:"
   ]
  },
  {
   "cell_type": "markdown",
   "metadata": {},
   "source": [
    "\\begin{equation*}\n",
    "z_i' - z_i = \\beta_2\n",
    "\\end{equation*}"
   ]
  },
  {
   "cell_type": "markdown",
   "metadata": {},
   "source": [
    "We can take the exponent:"
   ]
  },
  {
   "cell_type": "markdown",
   "metadata": {},
   "source": [
    "\\begin{equation*}\n",
    "e^{(z_i' - z_i)} = e^{\\beta_2}\n",
    "\\end{equation*}"
   ]
  },
  {
   "cell_type": "markdown",
   "metadata": {},
   "source": [
    "\\begin{equation*}\n",
    "\\frac{e^{z_i'}}{e^{z_i}}  = e^{\\beta_2}\n",
    "\\end{equation*}"
   ]
  },
  {
   "cell_type": "markdown",
   "metadata": {},
   "source": [
    "That means the exponential of the coefficient also expresses the odds ratio:"
   ]
  },
  {
   "cell_type": "markdown",
   "metadata": {},
   "source": [
    "\\begin{equation*}\n",
    "\\frac{ \\left( \\frac{p'}{1-p'} \\right) }{\\left( \\frac{p}{1-p} \\right) }= e^{\\beta_2}\n",
    "\\end{equation*}"
   ]
  },
  {
   "cell_type": "code",
   "execution_count": 20,
   "metadata": {},
   "outputs": [
    {
     "name": "stdout",
     "output_type": "stream",
     "text": [
      "Odd ratio: 99.2528%\n"
     ]
    }
   ],
   "source": [
    "print(\"Odd ratio: %.4f%%\"% ((np.exp(-0.0075))*100))"
   ]
  },
  {
   "cell_type": "markdown",
   "metadata": {},
   "source": [
    "For one year increase in age we can expect a 0.75% drop in odds of now-show"
   ]
  },
  {
   "cell_type": "markdown",
   "metadata": {},
   "source": [
    "The P-value tells what are the chances of getting a test statistic at least as extreme as the one we got, in a sample of the size we have. In the regression report the test statistic represents the null hypothesis that the coefficient of the model (of the population) is equal to zero. A low value of the P-value means that it is very unlikely to observe our sample given that the null is correct."
   ]
  },
  {
   "cell_type": "markdown",
   "metadata": {},
   "source": [
    "So in logistic regression we can easily interpret the coefficients and their statistical significance."
   ]
  },
  {
   "cell_type": "markdown",
   "metadata": {},
   "source": [
    "## About the random forest model"
   ]
  },
  {
   "cell_type": "markdown",
   "metadata": {},
   "source": [
    "To understand random forests we need to first understand decision trees.\n",
    "\n",
    "* A decision tree model tries to explain the target variable using the explanatory variables, in a manner similar to a decision tree used to illustrate any other process (with yes/no branches).\n",
    "\n",
    "* So we build a decision tree from the explanatory variables, in the order that they can separate \"no-show\" and \"show\" appointments.\n",
    "\n",
    "* In practice decision trees are not able to generalize and they are not so good estimators (they fit the training data too closely)\n",
    "\n",
    "A random forest is combines a set of \"weak\" estimators like the decision trees into a ensemble estimator that aggregates the output of the weak estimators. \n",
    "\n",
    "* Random sample observations with replacement to construct a slightly different data set\n",
    "* Select a random subset of explanatory variables and only use those to build a decision tree\n",
    "* Iterate the steps above $N$ times to build different decision trees. In the end make a prediction by aggregating the votes of the $N$ trees.\n"
   ]
  },
  {
   "cell_type": "markdown",
   "metadata": {},
   "source": [
    "The way explanatory variables interact with our target in a random forest is not as easy to interpret compared to the logistic regression."
   ]
  },
  {
   "cell_type": "markdown",
   "metadata": {},
   "source": [
    "## Model evaluation with cross validation"
   ]
  },
  {
   "cell_type": "markdown",
   "metadata": {},
   "source": [
    "We will score the 3 models on 4 subsets of the training data. Then we will fine tune the selected model using grid search."
   ]
  },
  {
   "cell_type": "markdown",
   "metadata": {},
   "source": [
    "<img src=\"grid_search_cross_validation2.png\" style=\"width: 600px\">"
   ]
  },
  {
   "cell_type": "markdown",
   "metadata": {},
   "source": [
    "First we scale the data"
   ]
  },
  {
   "cell_type": "code",
   "execution_count": 21,
   "metadata": {},
   "outputs": [],
   "source": [
    "from sklearn.preprocessing import StandardScaler\n",
    "sc = StandardScaler()\n",
    "\n",
    "X_train_sc = X_train.copy()\n",
    "X_test_sc = X_test.copy()\n",
    "\n",
    "X_train_sc.loc[:, :] = sc.fit_transform(X_train)\n",
    "X_test_sc.loc[:, :] = sc.transform(X_test)"
   ]
  },
  {
   "cell_type": "markdown",
   "metadata": {},
   "source": [
    "We will compare 3 models, using one metric, the F1 score: \n",
    "* Logistic regression\n",
    "* Random forest classifier\n",
    "* XGBoost classifier"
   ]
  },
  {
   "cell_type": "code",
   "execution_count": 22,
   "metadata": {},
   "outputs": [],
   "source": [
    "#import and initiate the 3 candidate models\n",
    "from sklearn.linear_model import LogisticRegression\n",
    "from sklearn.ensemble import RandomForestClassifier\n",
    "from xgboost import XGBClassifier\n",
    "\n",
    "log_reg = LogisticRegression()\n",
    "rfo_clf = RandomForestClassifier()\n",
    "xgb_clf = XGBClassifier()\n",
    "\n",
    "#save models in a list to loop over later\n",
    "models = [log_reg, rfo_clf, xgb_clf]"
   ]
  },
  {
   "cell_type": "code",
   "execution_count": 23,
   "metadata": {},
   "outputs": [],
   "source": [
    "from sklearn.model_selection import cross_val_score\n",
    "\n",
    "model_perf = {}\n",
    "\n",
    "for m in models:\n",
    "    scores = cross_val_score(m, X_train_sc, Y_train, scoring=\"f1\", cv=4)\n",
    "    avg_score = scores.mean()\n",
    "    model_perf[type(m).__name__] = avg_score"
   ]
  },
  {
   "cell_type": "code",
   "execution_count": 24,
   "metadata": {},
   "outputs": [
    {
     "data": {
      "text/plain": [
       "{'LogisticRegression': 0.05763960871776469,\n",
       " 'RandomForestClassifier': 0.27276494294314746,\n",
       " 'XGBClassifier': 0.13902139359527205}"
      ]
     },
     "execution_count": 24,
     "metadata": {},
     "output_type": "execute_result"
    }
   ],
   "source": [
    "model_perf"
   ]
  },
  {
   "cell_type": "markdown",
   "metadata": {},
   "source": [
    "## Hyperparameter tuning with grid search"
   ]
  },
  {
   "cell_type": "markdown",
   "metadata": {},
   "source": [
    "Next we find better parameter for the random forest model using grid search"
   ]
  },
  {
   "cell_type": "code",
   "execution_count": 25,
   "metadata": {},
   "outputs": [
    {
     "name": "stdout",
     "output_type": "stream",
     "text": [
      "Fitting 4 folds for each of 18 candidates, totalling 72 fits\n"
     ]
    },
    {
     "name": "stderr",
     "output_type": "stream",
     "text": [
      "[Parallel(n_jobs=-1)]: Using backend LokyBackend with 12 concurrent workers.\n",
      "[Parallel(n_jobs=-1)]: Done  26 tasks      | elapsed:   24.8s\n",
      "[Parallel(n_jobs=-1)]: Done  72 out of  72 | elapsed:  2.4min finished\n"
     ]
    },
    {
     "data": {
      "text/plain": [
       "GridSearchCV(cv=4, estimator=RandomForestClassifier(class_weight='balanced'),\n",
       "             n_jobs=-1,\n",
       "             param_grid=[{'max_depth': [4, None],\n",
       "                          'max_features': [2, 8, 'auto'],\n",
       "                          'n_estimators': [10, 100, 500]}],\n",
       "             return_train_score=True, scoring='f1', verbose=1)"
      ]
     },
     "execution_count": 25,
     "metadata": {},
     "output_type": "execute_result"
    }
   ],
   "source": [
    "from sklearn.model_selection import GridSearchCV\n",
    "\n",
    "param_grid = [\n",
    "{'n_estimators': [10, 100, 500], 'max_features': [2, 8, 'auto'], 'max_depth': [4, None]},\n",
    "]\n",
    "\n",
    "# add class weights\n",
    "rfo_clf_gr = RandomForestClassifier(class_weight='balanced')\n",
    "\n",
    "grid_search = GridSearchCV(rfo_clf_gr, param_grid, cv=4, scoring='f1',\n",
    "                           return_train_score=True,  n_jobs=-1, verbose=1)\n",
    "\n",
    "grid_search.fit(X_train_sc, Y_train)"
   ]
  },
  {
   "cell_type": "code",
   "execution_count": 26,
   "metadata": {},
   "outputs": [
    {
     "data": {
      "text/plain": [
       "RandomForestClassifier(class_weight='balanced', max_depth=4, max_features=8,\n",
       "                       n_estimators=500)"
      ]
     },
     "execution_count": 26,
     "metadata": {},
     "output_type": "execute_result"
    }
   ],
   "source": [
    "grid_search.best_estimator_"
   ]
  },
  {
   "cell_type": "code",
   "execution_count": 27,
   "metadata": {},
   "outputs": [
    {
     "name": "stdout",
     "output_type": "stream",
     "text": [
      "0.43536235064380613 {'max_depth': 4, 'max_features': 2, 'n_estimators': 10}\n",
      "0.4375082661732575 {'max_depth': 4, 'max_features': 2, 'n_estimators': 100}\n",
      "0.43784201838435644 {'max_depth': 4, 'max_features': 2, 'n_estimators': 500}\n",
      "0.4415859519574306 {'max_depth': 4, 'max_features': 8, 'n_estimators': 10}\n",
      "0.4426225493403385 {'max_depth': 4, 'max_features': 8, 'n_estimators': 100}\n",
      "0.4430131619123841 {'max_depth': 4, 'max_features': 8, 'n_estimators': 500}\n",
      "0.43928246320789777 {'max_depth': 4, 'max_features': 'auto', 'n_estimators': 10}\n",
      "0.43844410826371427 {'max_depth': 4, 'max_features': 'auto', 'n_estimators': 100}\n",
      "0.4390318788669143 {'max_depth': 4, 'max_features': 'auto', 'n_estimators': 500}\n",
      "0.2926740199936143 {'max_depth': None, 'max_features': 2, 'n_estimators': 10}\n",
      "0.30268778718024725 {'max_depth': None, 'max_features': 2, 'n_estimators': 100}\n",
      "0.3043782574777741 {'max_depth': None, 'max_features': 2, 'n_estimators': 500}\n",
      "0.2895848927930701 {'max_depth': None, 'max_features': 8, 'n_estimators': 10}\n",
      "0.29996060065574287 {'max_depth': None, 'max_features': 8, 'n_estimators': 100}\n",
      "0.2994829714098456 {'max_depth': None, 'max_features': 8, 'n_estimators': 500}\n",
      "0.2936565163404244 {'max_depth': None, 'max_features': 'auto', 'n_estimators': 10}\n",
      "0.30034879088346383 {'max_depth': None, 'max_features': 'auto', 'n_estimators': 100}\n",
      "0.30290027284883725 {'max_depth': None, 'max_features': 'auto', 'n_estimators': 500}\n"
     ]
    }
   ],
   "source": [
    "cvres = grid_search.cv_results_\n",
    "for mean_score, params in zip(cvres[\"mean_test_score\"], cvres[\"params\"]):\n",
    "    print(mean_score, params)"
   ]
  },
  {
   "cell_type": "code",
   "execution_count": 28,
   "metadata": {},
   "outputs": [],
   "source": [
    "rfo_best = grid_search.best_estimator_"
   ]
  },
  {
   "cell_type": "markdown",
   "metadata": {},
   "source": [
    "# Conclusion and Deployment"
   ]
  },
  {
   "cell_type": "markdown",
   "metadata": {},
   "source": [
    "Let's see how the model performs on the test data set:"
   ]
  },
  {
   "cell_type": "code",
   "execution_count": 29,
   "metadata": {},
   "outputs": [],
   "source": [
    "Y_pred_test = rfo_best.predict(X_test_sc)"
   ]
  },
  {
   "cell_type": "code",
   "execution_count": 30,
   "metadata": {},
   "outputs": [],
   "source": [
    "from sklearn.metrics import f1_score"
   ]
  },
  {
   "cell_type": "code",
   "execution_count": 31,
   "metadata": {},
   "outputs": [
    {
     "name": "stdout",
     "output_type": "stream",
     "text": [
      "The F1 score on the test data is 0.45 \n"
     ]
    }
   ],
   "source": [
    "print(\"The F1 score on the test data is %.2f \"%  f1_score(Y_test, Y_pred_test))"
   ]
  },
  {
   "cell_type": "markdown",
   "metadata": {},
   "source": [
    "This means that our model generalizes well and is not overfitting the training data."
   ]
  },
  {
   "cell_type": "markdown",
   "metadata": {},
   "source": [
    "Let's look at what variables explain best the separation between show and no-show"
   ]
  },
  {
   "cell_type": "code",
   "execution_count": 32,
   "metadata": {},
   "outputs": [
    {
     "name": "stdout",
     "output_type": "stream",
     "text": [
      "Gender, Score: 0.00107\n",
      "Age, Score: 0.07856\n",
      "Scholarship, Score: 0.00025\n",
      "Hipertension, Score: 0.00131\n",
      "Diabetes, Score: 0.00007\n",
      "Alcoholism, Score: 0.00017\n",
      "Handicap, Score: 0.00015\n",
      "SMS_received, Score: 0.04139\n",
      "DaysToApp, Score: 0.77737\n",
      "AppWeekend, Score: 0.00000\n",
      "PrevAppoint, Score: 0.01274\n",
      "NoShowRatio, Score: 0.08694\n"
     ]
    },
    {
     "data": {
      "image/png": "[encoded data removed]",
      "text/plain": [
       "<Figure size 842.4x595.44 with 1 Axes>"
      ]
     },
     "metadata": {},
     "output_type": "display_data"
    }
   ],
   "source": [
    "importance = rfo_best.feature_importances_\n",
    "# summarize feature importance\n",
    "for i,v in enumerate(importance):\n",
    "    print('%s, Score: %.5f' % (X_train.columns[i],v))\n",
    "# plot feature importance\n",
    "plt.barh([x for x in list(X_train.columns)[::-1] ], importance[::-1]  )\n",
    "plt.show()"
   ]
  },
  {
   "cell_type": "markdown",
   "metadata": {},
   "source": [
    "Both the logistic regression and random forest models suggest that age, the number of days before the an appointment is scheduled and when it should take place, the history on no-shows and if one or more SMS's have been sent correlate with the probability of no-show."
   ]
  },
  {
   "cell_type": "markdown",
   "metadata": {},
   "source": [
    "We can pickle the model for later deployment:"
   ]
  },
  {
   "cell_type": "code",
   "execution_count": 33,
   "metadata": {},
   "outputs": [
    {
     "data": {
      "text/plain": [
       "['no-show-rfo-clf.joblib']"
      ]
     },
     "execution_count": 33,
     "metadata": {},
     "output_type": "execute_result"
    }
   ],
   "source": [
    "from joblib import dump\n",
    "dump(rfo_best, 'no-show-rfo-clf.joblib') "
   ]
  },
  {
   "cell_type": "markdown",
   "metadata": {},
   "source": [
    "Also we need the scaler:"
   ]
  },
  {
   "cell_type": "code",
   "execution_count": 34,
   "metadata": {},
   "outputs": [
    {
     "data": {
      "text/plain": [
       "['no-show-scaler.joblib']"
      ]
     },
     "execution_count": 34,
     "metadata": {},
     "output_type": "execute_result"
    }
   ],
   "source": [
    "dump(sc, 'no-show-scaler.joblib') "
   ]
  },
  {
   "cell_type": "markdown",
   "metadata": {},
   "source": [
    "Example of a prediction:"
   ]
  },
  {
   "cell_type": "code",
   "execution_count": 35,
   "metadata": {},
   "outputs": [],
   "source": [
    "age = 60\n",
    "sms = 1\n",
    "days = 180\n",
    "ptotap = 10\n",
    "ratio = 0.9"
   ]
  },
  {
   "cell_type": "code",
   "execution_count": 36,
   "metadata": {},
   "outputs": [],
   "source": [
    "X_new = pd.DataFrame(data = [[1, age, 0, 0, 0, 0, 0, sms, days, 0, ptotap, ratio]], columns = ['Gender', 'Age', 'Scholarship', 'Hipertension', 'Diabetes',\n",
    "       'Alcoholism', 'Handicap', 'SMS_received', 'DaysToApp', 'AppWeekend',\n",
    "       'PrevAppoint', 'NoShowRatio'])\n",
    "X_new_sc = sc.transform(X_new)"
   ]
  },
  {
   "cell_type": "code",
   "execution_count": 37,
   "metadata": {},
   "outputs": [
    {
     "data": {
      "text/plain": [
       "0.7325462461636942"
      ]
     },
     "execution_count": 37,
     "metadata": {},
     "output_type": "execute_result"
    }
   ],
   "source": [
    "rfo_best.predict_proba(X_new_sc)[0][1]"
   ]
  },
  {
   "cell_type": "markdown",
   "metadata": {},
   "source": [
    "I used the pickled model in a web app calculator container. The code for the web app is in this same repository."
   ]
  }
 ],
 "metadata": {
  "kernelspec": {
   "display_name": "Python 3",
   "language": "python",
   "name": "python3"
  },
  "language_info": {
   "codemirror_mode": {
    "name": "ipython",
    "version": 3
   },
   "file_extension": ".py",
   "mimetype": "text/x-python",
   "name": "python",
   "nbconvert_exporter": "python",
   "pygments_lexer": "ipython3",
   "version": "3.7.6"
  },
  "toc": {
   "base_numbering": 1,
   "nav_menu": {},
   "number_sections": true,
   "sideBar": true,
   "skip_h1_title": false,
   "title_cell": "Table of Contents",
   "title_sidebar": "Contents",
   "toc_cell": false,
   "toc_position": {
    "height": "calc(100% - 180px)",
    "left": "10px",
    "top": "150px",
    "width": "307.2px"
   },
   "toc_section_display": true,
   "toc_window_display": true
  },
  "varInspector": {
   "cols": {
    "lenName": 16,
    "lenType": 16,
    "lenVar": 40
   },
   "kernels_config": {
    "python": {
     "delete_cmd_postfix": "",
     "delete_cmd_prefix": "del ",
     "library": "var_list.py",
     "varRefreshCmd": "print(var_dic_list())"
    },
    "r": {
     "delete_cmd_postfix": ") ",
     "delete_cmd_prefix": "rm(",
     "library": "var_list.r",
     "varRefreshCmd": "cat(var_dic_list()) "
    }
   },
   "types_to_exclude": [
    "module",
    "function",
    "builtin_function_or_method",
    "instance",
    "_Feature"
   ],
   "window_display": false
  }
 },
 "nbformat": 4,
 "nbformat_minor": 4
}
